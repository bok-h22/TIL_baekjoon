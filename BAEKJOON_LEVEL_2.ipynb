{
  "nbformat": 4,
  "nbformat_minor": 0,
  "metadata": {
    "colab": {
      "provenance": [],
      "include_colab_link": true
    },
    "kernelspec": {
      "name": "python3",
      "display_name": "Python 3"
    },
    "language_info": {
      "name": "python"
    }
  },
  "cells": [
    {
      "cell_type": "markdown",
      "metadata": {
        "id": "view-in-github",
        "colab_type": "text"
      },
      "source": [
      ]
    },
    {
      "cell_type": "markdown",
      "source": [
        "#1.\n",
        "두 정수 A와 B가 주어졌을 때, A와 B를 비교하는 프로그램을 작성하시오."
      ],
      "metadata": {
        "id": "2IjuItXCszVJ"
      }
    },
    {
      "cell_type": "code",
      "metadata": {
        "colab": {
          "base_uri": "https://localhost:8080/"
        },
        "id": "h1ljWFRtsr7h",
        "outputId": "4a1f688a-1ebf-481c-c902-dc55621b1532"
      },
      "outputs": [
        {
          "output_type": "stream",
          "name": "stdout",
          "text": [
            "1 2\n",
            "<\n"
          ]
        }
      ],
      "source": [
        "A, B = map(int, input().split())\n",
        "\n",
        "if A<B:\n",
        "  print(\"<\")\n",
        "elif A>B:\n",
        "  print(\">\")\n",
        "else:\n",
        "  print(\"==\")"
      ]
    },
    {
      "cell_type": "markdown",
      "source": [
        "#2.\n",
        "시험 점수를 입력받아 90 ~ 100점은 A, 80 ~ 89점은 B, 70 ~ 79점은 C, 60 ~ 69점은 D, 나머지 점수는 F를 출력하는 프로그램을 작성하시오."
      ],
      "metadata": {
        "id": "iSmnaD_ctWQa"
      }
    },
    {
      "cell_type": "code",
      "source": [
        "A = int(input())\n",
        "\n",
        "if A>=90:\n",
        "  print(\"A\")\n",
        "elif A>=80:\n",
        "  print(\"B\")\n",
        "elif A>=70:\n",
        "  print(\"C\")\n",
        "elif A>=60:\n",
        "  print(\"D\")\n",
        "else:\n",
        "  print(\"F\")"
      ],
      "metadata": {
        "colab": {
          "base_uri": "https://localhost:8080/"
        },
        "id": "6_jxNrFNtYBq",
        "outputId": "01863e28-f7cb-44c0-9508-7db126b1078c"
      },
      "outputs": [
        {
          "output_type": "stream",
          "name": "stdout",
          "text": [
            "100\n",
            "A\n"
          ]
        }
      ]
    },
    {
      "cell_type": "markdown",
      "source": [
        "#3.\n",
        "연도가 주어졌을 때, 윤년이면 1, 아니면 0을 출력하는 프로그램을 작성하시오.\n",
        "\n",
        "윤년은 연도가 4의 배수이면서, 100의 배수가 아닐 때 또는 400의 배수일 때이다.\n",
        "\n",
        "예를 들어, 2012년은 4의 배수이면서 100의 배수가 아니라서 윤년이다. 1900년은 100의 배수이고 400의 배수는 아니기 때문에 윤년이 아니다. 하지만, 2000년은 400의 배수이기 때문에 윤년이다."
      ],
      "metadata": {
        "id": "9P3LoqU2uNlj"
      }
    },
    {
      "cell_type": "code",
      "source": [
        "A = int(input())\n",
        "\n",
        "if (A%4 == 0) & (A%100 != 0):\n",
        "  print(1)\n",
        "elif A%400 == 0:\n",
        "  print(1)\n",
        "else:\n",
        "  print(0)"
      ],
      "metadata": {
        "colab": {
          "base_uri": "https://localhost:8080/"
        },
        "id": "FVlBThYVuOyQ",
        "outputId": "26cf48bb-3020-4876-8590-8be4a199825a"
      },
      "outputs": [
        {
          "output_type": "stream",
          "name": "stdout",
          "text": [
            "1999\n",
            "0\n"
          ]
        }
      ]
    },
    {
      "cell_type": "markdown",
      "source": [
        "#4.\n",
        "흔한 수학 문제 중 하나는 주어진 점이 어느 사분면에 속하는지 알아내는 것이다. 사분면은 아래 그림처럼 1부터 4까지 번호를 갖는다. \"Quadrant n\"은 \"제n사분면\"이라는 뜻이다.\n",
        "\n",
        "![image.png](data:image/png;base64,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)\n",
        "\n",
        "예를 들어, 좌표가 (12, 5)인 점 A는 x좌표와 y좌표가 모두 양수이므로 제1사분면에 속한다. 점 B는 x좌표가 음수이고 y좌표가 양수이므로 제2사분면에 속한다.\n",
        "\n",
        "점의 좌표를 입력받아 그 점이 어느 사분면에 속하는지 알아내는 프로그램을 작성하시오. 단, x좌표와 y좌표는 모두 양수나 음수라고 가정한다."
      ],
      "metadata": {
        "id": "IldjXw8jvq0V"
      }
    },
    {
      "cell_type": "code",
      "source": [
        "A = int(input())\n",
        "B = int(input())\n",
        "\n",
        "if (A>0) & (B>0):\n",
        "  print(1)\n",
        "elif (A<0) & (B>0):\n",
        "  print(2)\n",
        "elif (A<0) & (B<0):\n",
        "  print(3)\n",
        "else:\n",
        "  print(4)"
      ],
      "metadata": {
        "colab": {
          "base_uri": "https://localhost:8080/"
        },
        "id": "Bfa4_KXLv2mC",
        "outputId": "f0d199fa-09fc-402c-e537-45b831216205"
      },
      "outputs": [
        {
          "output_type": "stream",
          "name": "stdout",
          "text": [
            "10\n",
            "2\n",
            "1\n"
          ]
        }
      ]
    },
    {
      "cell_type": "markdown",
      "source": [
        "#5.\n",
        "상근이는 매일 아침 알람을 듣고 일어난다. 알람을 듣고 바로 일어나면 다행이겠지만, 항상 조금만 더 자려는 마음 때문에 매일 학교를 지각하고 있다.\n",
        "\n",
        "상근이는 모든 방법을 동원해보았지만, 조금만 더 자려는 마음은 그 어떤 것도 없앨 수가 없었다.\n",
        "\n",
        "이런 상근이를 불쌍하게 보던 창영이는 자신이 사용하는 방법을 추천해 주었다.\n",
        "\n",
        "바로 \"45분 일찍 알람 설정하기\"이다.\n",
        "\n",
        "이 방법은 단순하다. 원래 설정되어 있는 알람을 45분 앞서는 시간으로 바꾸는 것이다. 어차피 알람 소리를 들으면, 알람을 끄고 조금 더 잘 것이기 때문이다. 이 방법을 사용하면, 매일 아침 더 잤다는 기분을 느낄 수 있고, 학교도 지각하지 않게 된다.\n",
        "\n",
        "현재 상근이가 설정한 알람 시각이 주어졌을 때, 창영이의 방법을 사용한다면, 이를 언제로 고쳐야 하는지 구하는 프로그램을 작성하시오."
      ],
      "metadata": {
        "id": "Zq8TZePCzhq0"
      }
    },
    {
      "cell_type": "code",
      "source": [
        "A, B = map(int, input().split())\n",
        "\n",
        "if (A !=0) & ((B-45)<0):\n",
        "  print(A-1, B+15)\n",
        "elif (A !=0) & ((B-45)>0):\n",
        "  print(A, B-45)\n",
        "elif (A == 0) & ((B-45)<0):\n",
        "  print(A+24-1, B+60-45)\n",
        "else:\n",
        "  print(A, B-45)"
      ],
      "metadata": {
        "colab": {
          "base_uri": "https://localhost:8080/"
        },
        "id": "QR6XhEW5zk_X",
        "outputId": "957203a5-7d9f-40f8-e4b3-8b3139ed50bf"
      },
      "outputs": [
        {
          "output_type": "stream",
          "name": "stdout",
          "text": [
            "0 30\n",
            "23 45\n"
          ]
        }
      ]
    },
    {
      "cell_type": "markdown",
      "source": [
        "#6.\n",
        "KOI 전자에서는 건강에 좋고 맛있는 훈제오리구이 요리를 간편하게 만드는 인공지능 오븐을 개발하려고 한다. 인공지능 오븐을 사용하는 방법은 적당한 양의 오리 훈제 재료를 인공지능 오븐에 넣으면 된다. 그러면 인공지능 오븐은 오븐구이가 끝나는 시간을 분 단위로 자동적으로 계산한다.\n",
        "\n",
        "또한, KOI 전자의 인공지능 오븐 앞면에는 사용자에게 훈제오리구이 요리가 끝나는 시각을 알려 주는 디지털 시계가 있다.\n",
        "\n",
        "훈제오리구이를 시작하는 시각과 오븐구이를 하는 데 필요한 시간이 분단위로 주어졌을 때, 오븐구이가 끝나는 시각을 계산하는 프로그램을 작성하시오."
      ],
      "metadata": {
        "id": "6WwxItPyvxf7"
      }
    },
    {
      "cell_type": "code",
      "source": [
        "A, B = map(int, input().split())\n",
        "C = int(input())\n",
        "\n",
        "if (A+(B+C)//60 < 24) & (B+C >= 60):\n",
        "  print(A+(B+C)//60, (B+C)%60)\n",
        "elif (A+(B+C)//60 >= 24) & (B+C >= 60):\n",
        "  print(A-24+(B+C)//60, (B+C)%60)\n",
        "else:\n",
        "  print(A, B+C)"
      ],
      "metadata": {
        "colab": {
          "base_uri": "https://localhost:8080/"
        },
        "id": "tL7iW_N8oVcY",
        "outputId": "7085d828-4056-4687-dc5c-9034e6db9911"
      },
      "execution_count": 8,
      "outputs": [
        {
          "output_type": "stream",
          "name": "stdout",
          "text": [
            "23 48\n",
            "52\n",
            "0 40\n"
          ]
        }
      ]
    },
    {
      "cell_type": "markdown",
      "source": [
        "#7.\n",
        "1에서부터 6까지의 눈을 가진 3개의 주사위를 던져서 다음과 같은 규칙에 따라 상금을 받는 게임이 있다.\n",
        "\n",
        "  1. 같은 눈이 3개가 나오면 10,000원+(같은 눈)×1,000원의 상금을 받게 된다.\n",
        "  2. 같은 눈이 2개만 나오는 경우에는 1,000원+(같은 눈)×100원의 상금을 받게 된다.\n",
        "  3. 모두 다른 눈이 나오는 경우에는 (그 중 가장 큰 눈)×100원의 상금을 받게 된다.  \n",
        "예를 들어, 3개의 눈 3, 3, 6이 주어지면 상금은 1,000+3×100으로 계산되어 1,300원을 받게 된다. 또 3개의 눈이 2, 2, 2로 주어지면 10,000+2×1,000 으로 계산되어 12,000원을 받게 된다. 3개의 눈이 6, 2, 5로 주어지면 그중 가장 큰 값이 6이므로 6×100으로 계산되어 600원을 상금으로 받게 된다.\n",
        "\n",
        "3개 주사위의 나온 눈이 주어질 때, 상금을 계산하는 프로그램을 작성 하시오."
      ],
      "metadata": {
        "id": "pGhA8cJ9rNAB"
      }
    },
    {
      "cell_type": "code",
      "source": [
        "A, B, C = map(int, input().split())\n",
        "\n",
        "if (A == B) & (A == C) & (B == C):\n",
        "  print(10000+A*1000)\n",
        "elif (A != B) & (A != C) & (B != C):\n",
        "  print(max([A, B, C])*100)\n",
        "else:\n",
        "  print(1000+max([A, B, C], key=[A, B, C].count)*100)"
      ],
      "metadata": {
        "colab": {
          "base_uri": "https://localhost:8080/"
        },
        "id": "WU8lhyzkrVlb",
        "outputId": "43c6b77c-330d-4283-b87f-dc29d17e230c"
      },
      "execution_count": 32,
      "outputs": [
        {
          "output_type": "stream",
          "name": "stdout",
          "text": [
            "5 3 5\n",
            "1500\n"
          ]
        }
      ]
    }
  ]
}
