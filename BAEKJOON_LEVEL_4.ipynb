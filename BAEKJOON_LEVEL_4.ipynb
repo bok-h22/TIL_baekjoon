{
 "cells": [
  {
   "cell_type": "markdown",
   "metadata": {},
   "source": [
    "#1\n",
    "첫째 줄에 정수의 개수 N(1 ≤ N ≤ 100)이 주어진다. 둘째 줄에는 정수가 공백으로 구분되어져있다. 셋째 줄에는 찾으려고 하는 정수 v가 주어진다. 입력으로 주어지는 정수와 v는 -100보다 크거나 같으며, 100보다 작거나 같다."
   ]
  },
  {
   "cell_type": "code",
   "execution_count": null,
   "metadata": {},
   "outputs": [],
   "source": [
    "A = int(input())\n",
    "B = list(map(int, input().split(\" \")))\n",
    "C = int(input())\n",
    "D = 0\n",
    "\n",
    "for i in B:\n",
    "    if int(i) == C:\n",
    "      D+=1\n",
    "    else:\n",
    "      pass\n",
    "\n",
    "print(D)"
   ]
  },
  {
   "cell_type": "markdown",
   "metadata": {},
   "source": [
    "#2\n",
    "정수 N개로 이루어진 수열 A와 정수 X가 주어진다. 이때, A에서 X보다 작은 수를 모두 출력하는 프로그램을 작성하시오."
   ]
  },
  {
   "cell_type": "code",
   "execution_count": null,
   "metadata": {},
   "outputs": [],
   "source": [
    "N, X = map(int, input().split(\" \"))\n",
    "\n",
    "A= list(map(int, input().split(\" \")))\n",
    "temp_list = []\n",
    "\n",
    "for i in A:\n",
    "    if X > i:\n",
    "        temp_list.append(str(i))\n",
    "    else:\n",
    "        pass\n",
    "\n",
    "print(' '.join(temp_list))"
   ]
  },
  {
   "cell_type": "markdown",
   "metadata": {},
   "source": [
    "#3\n",
    "N개의 정수가 주어진다. 이때, 최솟값과 최댓값을 구하는 프로그램을 작성하시오."
   ]
  },
  {
   "cell_type": "code",
   "execution_count": null,
   "metadata": {},
   "outputs": [],
   "source": [
    "\n",
    "A = int(input())\n",
    "B = list(map(int, input().split(\" \")))\n",
    "\n",
    "max_value = -1000000\n",
    "min_value = 1000000\n",
    "\n",
    "for i in B:\n",
    "    if max_value <= i:\n",
    "        max_value = i\n",
    "    else:\n",
    "        pass\n",
    "\n",
    "for i in B:\n",
    "    if min_value >= i:\n",
    "        min_value = i\n",
    "    else:\n",
    "        pass\n",
    "\n",
    "print(min_value, max_value)"
   ]
  },
  {
   "cell_type": "markdown",
   "metadata": {},
   "source": [
    "#4\n",
    "9개의 서로 다른 자연수가 주어질 때, 이들 중 최댓값을 찾고 그 최댓값이 몇 번째 수인지를 구하는 프로그램을 작성하시오.\n",
    "\n",
    "예를 들어, 서로 다른 9개의 자연수\n",
    "3, 29, 38, 12, 57, 74, 40, 85, 61\n",
    "이 주어지면, 이들 중 최댓값은 85이고, 이 값은 8번째 수이다."
   ]
  },
  {
   "cell_type": "code",
   "execution_count": null,
   "metadata": {},
   "outputs": [],
   "source": [
    "num_list = []\n",
    "\n",
    "for i in range(9):\n",
    "    num_list.append(int(input()))\n",
    "\n",
    "\n",
    "print(max(num_list))\n",
    "print(num_list.index(max(num_list))+1)"
   ]
  },
  {
   "cell_type": "markdown",
   "metadata": {},
   "source": [
    "#5\n",
    "도현이는 바구니를 총 N개 가지고 있고, 각각의 바구니에는 1번부터 N번까지 번호가 매겨져 있다. 또, 1번부터 N번까지 번호가 적혀있는 공을 매우 많이 가지고 있다. 가장 처음 바구니에는 공이 들어있지 않으며, 바구니에는 공을 1개만 넣을 수 있다.\n",
    "\n",
    "도현이는 앞으로 M번 공을 넣으려고 한다. 도현이는 한 번 공을 넣을 때, 공을 넣을 바구니 범위를 정하고, 정한 바구니에 모두 같은 번호가 적혀있는 공을 넣는다. 만약, 바구니에 공이 이미 있는 경우에는 들어있는 공을 빼고, 새로 공을 넣는다. 공을 넣을 바구니는 연속되어 있어야 한다.\n",
    "\n",
    "공을 어떻게 넣을지가 주어졌을 때, M번 공을 넣은 이후에 각 바구니에 어떤 공이 들어 있는지 구하는 프로그램을 작성하시오."
   ]
  },
  {
   "cell_type": "code",
   "execution_count": null,
   "metadata": {},
   "outputs": [],
   "source": [
    "N, M = map(int, input().split(\" \"))\n",
    "\n",
    "temp_list = [ str(i*0) for i in range(N)]\n",
    "\n",
    "for i in range(M):\n",
    "    \n",
    "    i, j, k = map(int, input().split(\" \"))\n",
    "\n",
    "    for m in range(j-i+1):\n",
    "        temp_list[i+m-1] = \"{}\".format(k)\n",
    "\n",
    "print(\" \".join(temp_list))"
   ]
  },
  {
   "cell_type": "markdown",
   "metadata": {},
   "source": [
    "#6\n",
    "도현이는 바구니를 총 N개 가지고 있고, 각각의 바구니에는 1번부터 N번까지 번호가 매겨져 있다. 바구니에는 공이 1개씩 들어있고, 처음에는 바구니에 적혀있는 번호와 같은 번호가 적힌 공이 들어있다.\n",
    "\n",
    "도현이는 앞으로 M번 공을 바꾸려고 한다. 도현이는 공을 바꿀 바구니 2개를 선택하고, 두 바구니에 들어있는 공을 서로 교환한다.\n",
    "\n",
    "공을 어떻게 바꿀지가 주어졌을 때, M번 공을 바꾼 이후에 각 바구니에 어떤 공이 들어있는지 구하는 프로그램을 작성하시오."
   ]
  },
  {
   "cell_type": "code",
   "execution_count": null,
   "metadata": {},
   "outputs": [],
   "source": [
    "N, M = map(int, input().split(\" \"))\n",
    "\n",
    "basket = [ str(i+1) for i in range(N)]\n",
    "\n",
    "for i in range(M):\n",
    "    i, j = map(int, input().split(\" \"))\n",
    "\n",
    "    a =  basket[i-1]\n",
    "    b =  basket[j-1]\n",
    "\n",
    "    basket[i-1] = b\n",
    "    basket[j-1] = a\n",
    "    \n",
    "print(\" \".join(basket))"
   ]
  },
  {
   "cell_type": "markdown",
   "metadata": {},
   "source": [
    "#7 \n",
    "X대학 M교수님은 프로그래밍 수업을 맡고 있다. 교실엔 학생이 30명이 있는데, 학생 명부엔 각 학생별로 1번부터 30번까지 출석번호가 붙어 있다.\n",
    "\n",
    "교수님이 내준 특별과제를 28명이 제출했는데, 그 중에서 제출 안 한 학생 2명의 출석번호를 구하는 프로그램을 작성하시오."
   ]
  },
  {
   "cell_type": "code",
   "execution_count": null,
   "metadata": {},
   "outputs": [],
   "source": [
    "class_member = set([i+1 for i in range(30)])\n",
    "submit_member = []\n",
    "\n",
    "for _ in range(28):\n",
    "    submit_member.append(int(input()))\n",
    "\n",
    "a = class_member.difference(set(submit_member))\n",
    "\n",
    "print(min(a))\n",
    "print(max(a))"
   ]
  },
  {
   "cell_type": "markdown",
   "metadata": {},
   "source": [
    "#8\n",
    "두 자연수 A와 B가 있을 때, A%B는 A를 B로 나눈 나머지 이다. 예를 들어, 7, 14, 27, 38을 3으로 나눈 나머지는 1, 2, 0, 2이다. \n",
    "\n",
    "수 10개를 입력받은 뒤, 이를 42로 나눈 나머지를 구한다. 그 다음 서로 다른 값이 몇 개 있는지 출력하는 프로그램을 작성하시오."
   ]
  },
  {
   "cell_type": "code",
   "execution_count": null,
   "metadata": {},
   "outputs": [],
   "source": [
    "empty_list = []\n",
    "\n",
    "for _ in range(10):\n",
    "    empty_list.append((int(input()))%42)\n",
    "\n",
    "print(len(set(empty_list)))"
   ]
  },
  {
   "cell_type": "markdown",
   "metadata": {},
   "source": [
    "#9\n",
    "도현이는 바구니를 총 N개 가지고 있고, 각각의 바구니에는 1번부터 N번까지 번호가 순서대로 적혀져 있다. 바구니는 일렬로 놓여져 있고, 가장 왼쪽 바구니를 1번째 바구니, 그 다음 바구니를 2번째 바구니, ..., 가장 오른쪽 바구니를 N번째 바구니라고 부른다. \n",
    "\n",
    "도현이는 앞으로 M번 바구니의 순서를 역순으로 만들려고 한다. 도현이는 한 번 순서를 역순으로 바꿀 때, 순서를 역순으로 만들 범위를 정하고, 그 범위에 들어있는 바구니의 순서를 역순으로 만든다.\n",
    "\n",
    "바구니의 순서를 어떻게 바꿀지 주어졌을 때, M번 바구니의 순서를 역순으로 만든 다음, 바구니에 적혀있는 번호를 가장 왼쪽 바구니부터 출력하는 프로그램을 작성하시오."
   ]
  },
  {
   "cell_type": "code",
   "execution_count": null,
   "metadata": {},
   "outputs": [],
   "source": [
    "N, M = map(int, input().split())\n",
    "\n",
    "basket = [ str(i+1) for i in range(N)]\n",
    "\n",
    "for _ in range(M):\n",
    "    i, j = map(int, input().split())\n",
    "\n",
    "    basket[i-1:j] = list(reversed(basket[i-1:j]))\n",
    "\n",
    "print(\" \".join(basket))"
   ]
  },
  {
   "cell_type": "markdown",
   "metadata": {},
   "source": [
    "#10\n",
    "세준이는 기말고사를 망쳤다. 세준이는 점수를 조작해서 집에 가져가기로 했다. 일단 세준이는 자기 점수 중에 최댓값을 골랐다. 이 값을 M이라고 한다. 그리고 나서 모든 점수를 점수/M*100으로 고쳤다.\n",
    "\n",
    "예를 들어, 세준이의 최고점이 70이고, 수학점수가 50이었으면 수학점수는 50/70*100이 되어 71.43점이 된다.\n",
    "\n",
    "세준이의 성적을 위의 방법대로 새로 계산했을 때, 새로운 평균을 구하는 프로그램을 작성하시오."
   ]
  },
  {
   "cell_type": "code",
   "execution_count": null,
   "metadata": {},
   "outputs": [],
   "source": [
    "N = int(input())\n",
    "\n",
    "test_result = list(map(int, input().split()))\n",
    "\n",
    "adj_result = list(map(lambda x : x/max(test_result)*100, test_result))\n",
    "\n",
    "print(sum(adj_result)/N)"
   ]
  }
 ],
 "metadata": {
  "kernelspec": {
   "display_name": "base",
   "language": "python",
   "name": "python3"
  },
  "language_info": {
   "codemirror_mode": {
    "name": "ipython",
    "version": 3
   },
   "file_extension": ".py",
   "mimetype": "text/x-python",
   "name": "python",
   "nbconvert_exporter": "python",
   "pygments_lexer": "ipython3",
   "version": "3.9.13"
  },
  "orig_nbformat": 4
 },
 "nbformat": 4,
 "nbformat_minor": 2
}
