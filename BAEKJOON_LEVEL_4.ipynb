{
 "cells": [
  {
   "cell_type": "markdown",
   "metadata": {},
   "source": [
    "#1\n",
    "첫째 줄에 정수의 개수 N(1 ≤ N ≤ 100)이 주어진다. 둘째 줄에는 정수가 공백으로 구분되어져있다. 셋째 줄에는 찾으려고 하는 정수 v가 주어진다. 입력으로 주어지는 정수와 v는 -100보다 크거나 같으며, 100보다 작거나 같다."
   ]
  },
  {
   "cell_type": "code",
   "execution_count": null,
   "metadata": {},
   "outputs": [],
   "source": [
    "A = int(input())\n",
    "B = list(map(int, input().split(\" \")))\n",
    "C = int(input())\n",
    "D = 0\n",
    "\n",
    "for i in B:\n",
    "    if int(i) == C:\n",
    "      D+=1\n",
    "    else:\n",
    "      pass\n",
    "\n",
    "print(D)"
   ]
  },
  {
   "cell_type": "markdown",
   "metadata": {},
   "source": [
    "#2\n",
    "정수 N개로 이루어진 수열 A와 정수 X가 주어진다. 이때, A에서 X보다 작은 수를 모두 출력하는 프로그램을 작성하시오."
   ]
  },
  {
   "cell_type": "code",
   "execution_count": null,
   "metadata": {},
   "outputs": [],
   "source": [
    "N, X = map(int, input().split(\" \"))\n",
    "\n",
    "A= list(map(int, input().split(\" \")))\n",
    "temp_list = []\n",
    "\n",
    "for i in A:\n",
    "    if X > i:\n",
    "        temp_list.append(str(i))\n",
    "    else:\n",
    "        pass\n",
    "\n",
    "print(' '.join(temp_list))"
   ]
  },
  {
   "cell_type": "markdown",
   "metadata": {},
   "source": [
    "#3\n",
    "N개의 정수가 주어진다. 이때, 최솟값과 최댓값을 구하는 프로그램을 작성하시오."
   ]
  },
  {
   "cell_type": "code",
   "execution_count": 12,
   "metadata": {},
   "outputs": [
    {
     "name": "stdout",
     "output_type": "stream",
     "text": [
      "7 35\n"
     ]
    }
   ],
   "source": [
    "\n",
    "A = int(input())\n",
    "B = list(map(int, input().split(\" \")))\n",
    "\n",
    "max_value = -1000000\n",
    "min_value = 1000000\n",
    "\n",
    "for i in B:\n",
    "    if max_value <= i:\n",
    "        max_value = i\n",
    "    else:\n",
    "        pass\n",
    "\n",
    "for i in B:\n",
    "    if min_value >= i:\n",
    "        min_value = i\n",
    "    else:\n",
    "        pass\n",
    "\n",
    "print(min_value, max_value)"
   ]
  }
 ],
 "metadata": {
  "kernelspec": {
   "display_name": "base",
   "language": "python",
   "name": "python3"
  },
  "language_info": {
   "codemirror_mode": {
    "name": "ipython",
    "version": 3
   },
   "file_extension": ".py",
   "mimetype": "text/x-python",
   "name": "python",
   "nbconvert_exporter": "python",
   "pygments_lexer": "ipython3",
   "version": "3.9.13"
  },
  "orig_nbformat": 4
 },
 "nbformat": 4,
 "nbformat_minor": 2
}
